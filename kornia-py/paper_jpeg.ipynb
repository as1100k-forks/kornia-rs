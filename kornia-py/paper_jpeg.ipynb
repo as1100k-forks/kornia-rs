{
 "cells": [
  {
   "cell_type": "code",
   "execution_count": 1,
   "id": "33ed00ac",
   "metadata": {},
   "outputs": [
    {
     "name": "stderr",
     "output_type": "stream",
     "text": [
      "2025-04-17 20:59:23.482273: I external/local_xla/xla/tsl/cuda/cudart_stub.cc:32] Could not find cuda drivers on your machine, GPU will not be used.\n",
      "2025-04-17 20:59:23.485674: I external/local_xla/xla/tsl/cuda/cudart_stub.cc:32] Could not find cuda drivers on your machine, GPU will not be used.\n",
      "2025-04-17 20:59:23.493622: E external/local_xla/xla/stream_executor/cuda/cuda_fft.cc:467] Unable to register cuFFT factory: Attempting to register factory for plugin cuFFT when one has already been registered\n",
      "WARNING: All log messages before absl::InitializeLog() is called are written to STDERR\n",
      "E0000 00:00:1744903763.508317   62454 cuda_dnn.cc:8579] Unable to register cuDNN factory: Attempting to register factory for plugin cuDNN when one has already been registered\n",
      "E0000 00:00:1744903763.511974   62454 cuda_blas.cc:1407] Unable to register cuBLAS factory: Attempting to register factory for plugin cuBLAS when one has already been registered\n",
      "W0000 00:00:1744903763.522164   62454 computation_placer.cc:177] computation placer already registered. Please check linkage and avoid linking the same target more than once.\n",
      "W0000 00:00:1744903763.522185   62454 computation_placer.cc:177] computation placer already registered. Please check linkage and avoid linking the same target more than once.\n",
      "W0000 00:00:1744903763.522187   62454 computation_placer.cc:177] computation placer already registered. Please check linkage and avoid linking the same target more than once.\n",
      "W0000 00:00:1744903763.522188   62454 computation_placer.cc:177] computation placer already registered. Please check linkage and avoid linking the same target more than once.\n",
      "2025-04-17 20:59:23.526368: I tensorflow/core/platform/cpu_feature_guard.cc:210] This TensorFlow binary is optimized to use available CPU instructions in performance-critical operations.\n",
      "To enable the following instructions: AVX2 FMA, in other operations, rebuild TensorFlow with the appropriate compiler flags.\n"
     ]
    },
    {
     "name": "stdout",
     "output_type": "stream",
     "text": [
      "Kornia-rs: 0.1.9-rc.2\n",
      "Tensorflow: 2.19.0\n",
      "OpenCV: 4.11.0\n",
      "PIL/Pillow: 11.2.1\n"
     ]
    }
   ],
   "source": [
    "import kornia_rs\n",
    "import tensorflow\n",
    "import cv2\n",
    "import PIL\n",
    "\n",
    "print(\"Kornia-rs: \" + kornia_rs.__version__)\n",
    "print(\"Tensorflow: \" + tensorflow.__version__)\n",
    "print(\"OpenCV: \" + cv2.__version__)\n",
    "print(\"PIL/Pillow: \" + PIL.__version__)"
   ]
  },
  {
   "cell_type": "code",
   "execution_count": 2,
   "id": "f82fba69",
   "metadata": {},
   "outputs": [],
   "source": [
    "import time\n",
    "\n",
    "# Decorator to measure execution time and store it in a specified array\n",
    "def time_tracker(times_list):\n",
    "    def decorator(func):\n",
    "        def wrapper(*args, **kwargs):\n",
    "            start_time = time.time()\n",
    "            result = func(*args, **kwargs)\n",
    "            end_time = time.time()\n",
    "            elapsed_time = end_time - start_time\n",
    "            times_list.append(elapsed_time)\n",
    "            # print(f\"Time taken by {func.__name__}: {elapsed_time:.6f} seconds\")\n",
    "            return result\n",
    "        return wrapper\n",
    "    return decorator"
   ]
  },
  {
   "cell_type": "code",
   "execution_count": 3,
   "id": "19c4f1e4",
   "metadata": {},
   "outputs": [],
   "source": [
    "# JPEG Image Time\n",
    "\n",
    "kornia_rs_720p = []\n",
    "kornia_rs_1080p = []\n",
    "kornia_rs_2k = []\n",
    "kornia_rs_4k = []\n",
    "\n",
    "pil_720p = []\n",
    "pil_1080p = []\n",
    "pil_2k = []\n",
    "pil_4k = []"
   ]
  },
  {
   "cell_type": "code",
   "execution_count": 4,
   "id": "fa7bde20",
   "metadata": {},
   "outputs": [],
   "source": [
    "import io\n",
    "from PIL import Image\n",
    "import numpy as np\n",
    "\n",
    "# Dummy image data for testing\n",
    "with open(\"data/720p.jpeg\", \"rb\") as f:\n",
    "    image_720p = f.read()\n",
    "\n",
    "with open(\"data/1080p.jpeg\", \"rb\") as f:\n",
    "    image_1080p = f.read()\n",
    "\n",
    "with open(\"data/2k.jpeg\", \"rb\") as f:\n",
    "    image_2k = f.read()\n",
    "\n",
    "with open(\"data/4k.jpeg\", \"rb\") as f:\n",
    "    image_4k = f.read()\n",
    "\n",
    "@time_tracker(kornia_rs_720p)\n",
    "def load_with_kornia_rs_720p():\n",
    "    kornia_rs.decode_image_jpeg(image_720p, \"rgb\")\n",
    "\n",
    "@time_tracker(kornia_rs_1080p)\n",
    "def load_with_kornia_rs_1080p():\n",
    "    kornia_rs.decode_image_jpeg(image_1080p, \"rgb\")\n",
    "\n",
    "@time_tracker(kornia_rs_2k)\n",
    "def load_with_kornia_rs_2k():\n",
    "    kornia_rs.decode_image_jpeg(image_2k, \"rgb\")\n",
    "\n",
    "@time_tracker(kornia_rs_4k)\n",
    "def load_with_kornia_rs_4k():\n",
    "    kornia_rs.decode_image_jpeg(image_4k, \"rgb\")\n",
    "\n",
    "@time_tracker(pil_720p)\n",
    "def load_with_pil_720p():\n",
    "    Image.open(io.BytesIO(image_720p))\n",
    "\n",
    "@time_tracker(pil_1080p)\n",
    "def load_with_pil_1080p():\n",
    "    Image.open(io.BytesIO(image_1080p))\n",
    "\n",
    "@time_tracker(pil_2k)\n",
    "def load_with_pil_2k():\n",
    "    Image.open(io.BytesIO(image_2k))\n",
    "\n",
    "@time_tracker(pil_4k)\n",
    "def load_with_pil_4k():\n",
    "    Image.open(io.BytesIO(image_4k))\n",
    "\n",
    "# Load each image 5000 times\n",
    "for _ in range(500):\n",
    "    load_with_kornia_rs_720p()\n",
    "    load_with_kornia_rs_1080p()\n",
    "    load_with_kornia_rs_2k()\n",
    "    load_with_kornia_rs_4k()\n",
    "    load_with_pil_720p()\n",
    "    load_with_pil_1080p()\n",
    "    load_with_pil_2k()\n",
    "    load_with_pil_4k()"
   ]
  },
  {
   "cell_type": "code",
   "execution_count": 5,
   "id": "c62b9d20",
   "metadata": {},
   "outputs": [
    {
     "name": "stdout",
     "output_type": "stream",
     "text": [
      "kornia_rs_720p: [0.004789829254150391, 0.003090381622314453, 0.0030510425567626953, 0.003086566925048828, 0.0031867027282714844]\n",
      "kornia_rs_1080p: [0.007476091384887695, 0.0044689178466796875, 0.004352569580078125, 0.00439143180847168, 0.0043487548828125]\n",
      "kornia_rs_2k: [0.012092828750610352, 0.006741762161254883, 0.007231950759887695, 0.006789207458496094, 0.0071103572845458984]\n",
      "kornia_rs_4k: [0.02446746826171875, 0.016895055770874023, 0.018215417861938477, 0.01760578155517578, 0.018661975860595703]\n",
      "pil_720p: [0.002414226531982422, 0.00014257431030273438, 0.0001354217529296875, 0.00013566017150878906, 0.00013780593872070312]\n",
      "pil_1080p: [4.291534423828125e-05, 3.790855407714844e-05, 3.790855407714844e-05, 3.695487976074219e-05, 3.8623809814453125e-05]\n",
      "pil_2k: [3.790855407714844e-05, 3.147125244140625e-05, 3.24249267578125e-05, 3.24249267578125e-05, 3.266334533691406e-05]\n",
      "pil_4k: [3.361701965332031e-05, 3.0517578125e-05, 3.147125244140625e-05, 2.956390380859375e-05, 3.0517578125e-05]\n"
     ]
    }
   ],
   "source": [
    "print(\"kornia_rs_720p:\", kornia_rs_720p[:5])\n",
    "print(\"kornia_rs_1080p:\", kornia_rs_1080p[:5])\n",
    "print(\"kornia_rs_2k:\", kornia_rs_2k[:5])\n",
    "print(\"kornia_rs_4k:\", kornia_rs_4k[:5])\n",
    "\n",
    "print(\"pil_720p:\", pil_720p[:5])\n",
    "print(\"pil_1080p:\", pil_1080p[:5])\n",
    "print(\"pil_2k:\", pil_2k[:5])\n",
    "print(\"pil_4k:\", pil_4k[:5])"
   ]
  },
  {
   "cell_type": "code",
   "execution_count": 6,
   "id": "3059b55d",
   "metadata": {},
   "outputs": [
    {
     "name": "stdout",
     "output_type": "stream",
     "text": [
      "Average Kornia-rs 720p: 0.003181917190551758\n",
      "Average Kornia-rs 1080p: 0.004415459632873535\n",
      "Average Kornia-rs 2k: 0.006830597400665283\n",
      "Average Kornia-rs 4k: 0.01714810037612915\n",
      "Average PIL 720p: 0.0001348457336425781\n",
      "Average PIL 1080p: 3.470516204833984e-05\n",
      "Average PIL 2k: 3.053140640258789e-05\n",
      "Average PIL 4k: 2.9232501983642578e-05\n"
     ]
    }
   ],
   "source": [
    "# Calculate averages\n",
    "avg_kornia_rs_720p = sum(kornia_rs_720p) / len(kornia_rs_720p)\n",
    "avg_kornia_rs_1080p = sum(kornia_rs_1080p) / len(kornia_rs_1080p)\n",
    "avg_kornia_rs_2k = sum(kornia_rs_2k) / len(kornia_rs_2k)\n",
    "avg_kornia_rs_4k = sum(kornia_rs_4k) / len(kornia_rs_4k)\n",
    "\n",
    "avg_pil_720p = sum(pil_720p) / len(pil_720p)\n",
    "avg_pil_1080p = sum(pil_1080p) / len(pil_1080p)\n",
    "avg_pil_2k = sum(pil_2k) / len(pil_2k)\n",
    "avg_pil_4k = sum(pil_4k) / len(pil_4k)\n",
    "\n",
    "# Print averages\n",
    "print(\"Average Kornia-rs 720p:\", avg_kornia_rs_720p)\n",
    "print(\"Average Kornia-rs 1080p:\", avg_kornia_rs_1080p)\n",
    "print(\"Average Kornia-rs 2k:\", avg_kornia_rs_2k)\n",
    "print(\"Average Kornia-rs 4k:\", avg_kornia_rs_4k)\n",
    "\n",
    "print(\"Average PIL 720p:\", avg_pil_720p)\n",
    "print(\"Average PIL 1080p:\", avg_pil_1080p)\n",
    "print(\"Average PIL 2k:\", avg_pil_2k)\n",
    "print(\"Average PIL 4k:\", avg_pil_4k)"
   ]
  },
  {
   "cell_type": "code",
   "execution_count": 7,
   "id": "8d1c18a8",
   "metadata": {},
   "outputs": [
    {
     "data": {
      "image/png": "[encoded data removed]",
      "text/plain": [
       "<Figure size 1000x600 with 1 Axes>"
      ]
     },
     "metadata": {},
     "output_type": "display_data"
    }
   ],
   "source": [
    "import numpy as np\n",
    "\n",
    "import matplotlib.pyplot as plt\n",
    "\n",
    "# Resolutions and average times\n",
    "resolutions = ['720p', '1080p', '2k', '4k']\n",
    "kornia_rs_avg = [avg_kornia_rs_720p, avg_kornia_rs_1080p, avg_kornia_rs_2k, avg_kornia_rs_4k]\n",
    "pil_avg = [avg_pil_720p, avg_pil_1080p, avg_pil_2k, avg_pil_4k]\n",
    "\n",
    "# Bar width and positions\n",
    "bar_width = 0.35\n",
    "x = np.arange(len(resolutions))\n",
    "\n",
    "# Plotting the histogram\n",
    "plt.figure(figsize=(10, 6))\n",
    "plt.bar(x - bar_width / 2, kornia_rs_avg, bar_width, label='Kornia-rs', color='blue', alpha=0.7)\n",
    "plt.bar(x + bar_width / 2, pil_avg, bar_width, label='PIL', color='orange', alpha=0.7)\n",
    "\n",
    "# Adding labels, title, and legend\n",
    "plt.xlabel('Resolution')\n",
    "plt.ylabel('Average Time (seconds)')\n",
    "plt.title('Average Image Decoding Time by Resolution')\n",
    "plt.xticks(x, resolutions)\n",
    "plt.legend()\n",
    "plt.grid(axis='y', linestyle='--', alpha=0.7)\n",
    "plt.tight_layout()\n",
    "plt.show()"
   ]
  }
 ],
 "metadata": {
  "kernelspec": {
   "display_name": ".venv",
   "language": "python",
   "name": "python3"
  },
  "language_info": {
   "codemirror_mode": {
    "name": "ipython",
    "version": 3
   },
   "file_extension": ".py",
   "mimetype": "text/x-python",
   "name": "python",
   "nbconvert_exporter": "python",
   "pygments_lexer": "ipython3",
   "version": "3.9.21"
  }
 },
 "nbformat": 4,
 "nbformat_minor": 5
}
