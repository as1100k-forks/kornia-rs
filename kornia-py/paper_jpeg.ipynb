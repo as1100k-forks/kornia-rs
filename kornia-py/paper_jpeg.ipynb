{
 "cells": [
  {
   "cell_type": "code",
   "execution_count": 8,
   "id": "33ed00ac",
   "metadata": {},
   "outputs": [
    {
     "name": "stdout",
     "output_type": "stream",
     "text": [
      "Kornia-rs: 0.1.9-rc.3\n",
      "Tensorflow: 2.19.0\n",
      "OpenCV: 4.11.0\n",
      "PIL/Pillow: 11.2.1\n"
     ]
    }
   ],
   "source": [
    "import kornia_rs\n",
    "import tensorflow as tf\n",
    "import cv2\n",
    "import PIL\n",
    "\n",
    "print(\"Kornia-rs: \" + kornia_rs.__version__)\n",
    "print(\"Tensorflow: \" + tf.__version__)\n",
    "print(\"OpenCV: \" + cv2.__version__)\n",
    "print(\"PIL/Pillow: \" + PIL.__version__)"
   ]
  },
  {
   "cell_type": "code",
   "execution_count": 9,
   "id": "fa7bde20",
   "metadata": {},
   "outputs": [
    {
     "name": "stdout",
     "output_type": "stream",
     "text": [
      "kornia_rs 720p = 1.6389876599987474\n",
      "kornia_rs 1080p = 3.5881092220006394\n",
      "kornia_rs 2k = 6.412429195999721\n",
      "kornia_rs 4k = 27.566579795999132\n"
     ]
    }
   ],
   "source": [
    "# JPEG Decoding\n",
    "\n",
    "import io\n",
    "from PIL import Image\n",
    "import numpy as np\n",
    "import timeit\n",
    "\n",
    "N = 500\n",
    "\n",
    "with open(\"data/720p.jpeg\", \"rb\") as f:\n",
    "    image_720p = io.BytesIO(f.read())\n",
    "\n",
    "with open(\"data/1080p.jpeg\", \"rb\") as f:\n",
    "    image_1080p = io.BytesIO(f.read())\n",
    "\n",
    "with open(\"data/2k.jpeg\", \"rb\") as f:\n",
    "    image_2k = io.BytesIO(f.read())\n",
    "\n",
    "with open(\"data/4k.jpeg\", \"rb\") as f:\n",
    "    image_4k = io.BytesIO(f.read())\n",
    "\n",
    "# ============================\n",
    "# Kornia-rs\n",
    "# ============================\n",
    "#\n",
    "# Turbojpeg\n",
    "def load_with_kornia_rs_720p():\n",
    "    np.array(kornia_rs.decode_image_jpeg(image_720p.getvalue(), \"rgb\"))\n",
    "\n",
    "def load_with_kornia_rs_1080p():\n",
    "    np.array(kornia_rs.decode_image_jpeg(image_1080p.getvalue(), \"rgb\"))\n",
    "\n",
    "def load_with_kornia_rs_2k():\n",
    "    np.array(kornia_rs.decode_image_jpeg(image_2k.getvalue(), \"rgb\"))\n",
    "\n",
    "def load_with_kornia_rs_4k():\n",
    "    np.array(kornia_rs.decode_image_jpeg(image_4k.getvalue(), \"rgb\"))\n",
    "\n",
    "kornia_rs_720p = timeit.timeit(load_with_kornia_rs_720p, number=N) / N * 1e3\n",
    "kornia_rs_1080p = timeit.timeit(load_with_kornia_rs_1080p, number=N) / N * 1e3\n",
    "kornia_rs_2k = timeit.timeit(load_with_kornia_rs_2k, number=N) / N * 1e3\n",
    "kornia_rs_4k = timeit.timeit(load_with_kornia_rs_4k, number=N) / N * 1e3\n",
    "\n",
    "print(\"kornia_rs 720p = \" + str(kornia_rs_720p))\n",
    "print(\"kornia_rs 1080p = \" + str(kornia_rs_1080p))\n",
    "print(\"kornia_rs 2k = \" + str(kornia_rs_2k))\n",
    "print(\"kornia_rs 4k = \" + str(kornia_rs_4k))"
   ]
  },
  {
   "cell_type": "code",
   "execution_count": 10,
   "id": "0854cf48",
   "metadata": {},
   "outputs": [
    {
     "name": "stdout",
     "output_type": "stream",
     "text": [
      "kornia_rs Raw 720p = 1.655235412001275\n",
      "kornia_rs Raw 1080p = 3.616088847998981\n",
      "kornia_rs Raw 2k = 6.574187666001308\n",
      "kornia_rs Raw 4k = 26.044538148000356\n"
     ]
    }
   ],
   "source": [
    "# Raw Jpeg\n",
    "def load_with_kornia_rs_raw_720p():\n",
    "    kornia_rs.decode_image_raw_jpeg(image_720p.getvalue(), [720, 1280], \"rgb\")\n",
    "\n",
    "def load_with_kornia_rs_raw_1080p():\n",
    "    kornia_rs.decode_image_raw_jpeg(image_1080p.getvalue(), [1080, 1920], \"rgb\")\n",
    "\n",
    "def load_with_kornia_rs_raw_2k():\n",
    "    kornia_rs.decode_image_raw_jpeg(image_2k.getvalue(), [1440, 2560], \"rgb\")\n",
    "\n",
    "def load_with_kornia_rs_raw_4k():\n",
    "    kornia_rs.decode_image_raw_jpeg(image_4k.getvalue(), [2160, 3840], \"rgb\")\n",
    "\n",
    "kornia_rs_raw_720p = timeit.timeit(load_with_kornia_rs_raw_720p, number=N) / N * 1e3\n",
    "kornia_rs_raw_1080p = timeit.timeit(load_with_kornia_rs_raw_1080p, number=N) / N * 1e3\n",
    "kornia_rs_raw_2k = timeit.timeit(load_with_kornia_rs_raw_2k, number=N) / N * 1e3\n",
    "kornia_rs_raw_4k = timeit.timeit(load_with_kornia_rs_raw_4k, number=N) / N * 1e3\n",
    "\n",
    "print(\"kornia_rs Raw 720p = \" + str(kornia_rs_raw_720p))\n",
    "print(\"kornia_rs Raw 1080p = \" + str(kornia_rs_raw_1080p))\n",
    "print(\"kornia_rs Raw 2k = \" + str(kornia_rs_raw_2k))\n",
    "print(\"kornia_rs Raw 4k = \" + str(kornia_rs_raw_4k))"
   ]
  },
  {
   "cell_type": "code",
   "execution_count": 11,
   "id": "fa52e1be",
   "metadata": {},
   "outputs": [
    {
     "name": "stdout",
     "output_type": "stream",
     "text": [
      "pil 720p = 2.0072389699998894\n",
      "pil 1080p = 4.934741013999883\n",
      "pil 2k = 9.352459193998584\n",
      "pil 4k = 51.31011141599993\n"
     ]
    }
   ],
   "source": [
    "# ============================\n",
    "# PIL\n",
    "# ============================\n",
    "def load_with_pil_720p():\n",
    "    np.array(Image.open(image_720p))\n",
    "\n",
    "def load_with_pil_1080p():\n",
    "    np.array(Image.open(image_1080p))\n",
    "\n",
    "def load_with_pil_2k():\n",
    "    np.array(Image.open(image_2k))\n",
    "\n",
    "def load_with_pil_4k():\n",
    "    np.array(Image.open(image_4k))\n",
    "\n",
    "pil_720p = timeit.timeit(load_with_pil_720p, number=N) / N * 1e3\n",
    "pil_1080p = timeit.timeit(load_with_pil_1080p, number=N) / N * 1e3\n",
    "pil_2k = timeit.timeit(load_with_pil_2k, number=N) / N * 1e3\n",
    "pil_4k = timeit.timeit(load_with_pil_4k, number=N) / N * 1e3\n",
    "\n",
    "print(\"pil 720p = \" + str(pil_720p))\n",
    "print(\"pil 1080p = \" + str(pil_1080p))\n",
    "print(\"pil 2k = \" + str(pil_2k))\n",
    "print(\"pil 4k = \" + str(pil_4k))"
   ]
  },
  {
   "cell_type": "code",
   "execution_count": 12,
   "id": "5a936db8",
   "metadata": {},
   "outputs": [
    {
     "name": "stdout",
     "output_type": "stream",
     "text": [
      "Tensorflow 720p = 1.4252323779983271\n",
      "Tensorflow 1080p = 2.9946717839993653\n",
      "Tensorflow 2k = 5.389813534000496\n",
      "Tensorflow 4k = 25.236347355999897\n"
     ]
    }
   ],
   "source": [
    "# ============================\n",
    "# TensorFlow\n",
    "# ============================\n",
    "tf.config.threading.set_intra_op_parallelism_threads(1)\n",
    "tf.config.threading.set_inter_op_parallelism_threads(1)\n",
    "\n",
    "def load_with_tf_720p():\n",
    "    np.array(tf.io.decode_image(image_720p.getvalue(), channels=3))\n",
    "\n",
    "def load_with_tf_1080p():\n",
    "    np.array(tf.io.decode_image(image_1080p.getvalue(), channels=3))\n",
    "\n",
    "def load_with_tf_2k():\n",
    "    np.array(tf.io.decode_image(image_2k.getvalue(), channels=3))\n",
    "\n",
    "def load_with_tf_4k():\n",
    "    np.array(tf.io.decode_image(image_4k.getvalue(), channels=3))\n",
    "\n",
    "tf_720p = timeit.timeit(load_with_tf_720p, number=N) / N * 1e3\n",
    "tf_1080p = timeit.timeit(load_with_tf_1080p, number=N) / N * 1e3\n",
    "tf_2k = timeit.timeit(load_with_tf_2k, number=N) / N * 1e3\n",
    "tf_4k = timeit.timeit(load_with_tf_4k, number=N) / N * 1e3\n",
    "\n",
    "print(\"Tensorflow 720p = \" + str(tf_720p))\n",
    "print(\"Tensorflow 1080p = \" + str(tf_1080p))\n",
    "print(\"Tensorflow 2k = \" + str(tf_2k))\n",
    "print(\"Tensorflow 4k = \" + str(tf_4k))"
   ]
  },
  {
   "cell_type": "code",
   "execution_count": 13,
   "id": "006ad912",
   "metadata": {},
   "outputs": [
    {
     "name": "stdout",
     "output_type": "stream",
     "text": [
      "OpenCV 720p = 1.4913368000015907\n",
      "OpenCV 1080p = 3.419662783999229\n",
      "OpenCV 2k = 5.734404958000596\n",
      "OpenCV 4k = 27.475645181999425\n"
     ]
    }
   ],
   "source": [
    "# ============================\n",
    "# OpenCV\n",
    "# ============================\n",
    "cv2.setNumThreads(1)\n",
    "\n",
    "buffer_720p = np.frombuffer(image_720p.getvalue(), np.uint8)\n",
    "buffer_1080p = np.frombuffer(image_1080p.getvalue(), np.uint8)\n",
    "buffer_2k = np.frombuffer(image_2k.getvalue(), np.uint8)\n",
    "buffer_4k = np.frombuffer(image_4k.getvalue(), np.uint8)\n",
    "\n",
    "def load_with_cv2_720p():\n",
    "    np.array(cv2.imdecode(buffer_720p, cv2.IMREAD_COLOR))\n",
    "\n",
    "def load_with_cv2_1080p():\n",
    "    np.array(cv2.imdecode(buffer_1080p, cv2.IMREAD_COLOR))\n",
    "\n",
    "def load_with_cv2_2k():\n",
    "    np.array(cv2.imdecode(buffer_2k, cv2.IMREAD_COLOR))\n",
    "\n",
    "def load_with_cv2_4k():\n",
    "    np.array(cv2.imdecode(buffer_4k, cv2.IMREAD_COLOR))\n",
    "\n",
    "cv2_720p = timeit.timeit(load_with_cv2_720p, number=N) / N * 1e3\n",
    "cv2_1080p = timeit.timeit(load_with_cv2_1080p, number=N) / N * 1e3\n",
    "cv2_2k = timeit.timeit(load_with_cv2_2k, number=N) / N * 1e3\n",
    "cv2_4k = timeit.timeit(load_with_cv2_4k, number=N) / N * 1e3\n",
    "\n",
    "print(\"OpenCV 720p = \" + str(cv2_720p))\n",
    "print(\"OpenCV 1080p = \" + str(cv2_1080p))\n",
    "print(\"OpenCV 2k = \" + str(cv2_2k))\n",
    "print(\"OpenCV 4k = \" + str(cv2_4k))"
   ]
  },
  {
   "cell_type": "code",
   "execution_count": 14,
   "id": "8d1c18a8",
   "metadata": {},
   "outputs": [
    {
     "data": {
      "image/png": "[encoded data removed]",
      "text/plain": [
       "<Figure size 1000x600 with 1 Axes>"
      ]
     },
     "metadata": {},
     "output_type": "display_data"
    }
   ],
   "source": [
    "import numpy as np\n",
    "import matplotlib.pyplot as plt\n",
    "\n",
    "# Resolutions and average times\n",
    "resolutions = ['720p', '1080p', '2k', '4k']\n",
    "kornia_rs_avg = [kornia_rs_720p, kornia_rs_1080p, kornia_rs_2k, kornia_rs_4k]\n",
    "kornia_rs_raw_avg = [kornia_rs_raw_720p, kornia_rs_raw_1080p, kornia_rs_raw_2k, kornia_rs_raw_4k]\n",
    "pil_avg = [pil_720p, pil_1080p, pil_2k, pil_4k]\n",
    "opencv_avg = [cv2_720p, cv2_1080p, cv2_2k, cv2_4k]\n",
    "tf_avg = [tf_720p, tf_1080p, tf_2k, tf_4k]\n",
    "\n",
    "# Bar width and positions\n",
    "bar_width = 0.20\n",
    "group_spacing = 0.1  # Add spacing between groups\n",
    "x = np.arange(len(resolutions)) * (1 + group_spacing)\n",
    "\n",
    "# Plotting the histogram\n",
    "plt.figure(figsize=(10, 6))\n",
    "bars1 = plt.bar(x - (2 * bar_width), kornia_rs_avg, bar_width, label='Kornia-rs TurboJPEG', color='blue', alpha=0.7)\n",
    "bars2 = plt.bar(x - bar_width, kornia_rs_raw_avg, bar_width, label='Kornia-rs Raw JPEG', color='cyan', alpha=0.7)\n",
    "bars3 = plt.bar(x, pil_avg, bar_width, label='PIL', color='orange', alpha=0.7)\n",
    "bars4 = plt.bar(x + bar_width, opencv_avg, bar_width, label='OpenCV', color='green', alpha=0.7)\n",
    "bars5 = plt.bar(x + (2 * bar_width), tf_avg, bar_width, label=\"TensorFlow\", color=\"red\", alpha=0.7)\n",
    "\n",
    "# Adding labels, title, and legend\n",
    "plt.xlabel('Resolution')\n",
    "plt.ylabel('Time (ms)')\n",
    "plt.title('Decoding PNG image')\n",
    "plt.xticks(x, resolutions)\n",
    "plt.legend()\n",
    "plt.grid(axis='y', linestyle='--', alpha=0.7)\n",
    "\n",
    "# Adding values on top of bars\n",
    "for bars in [bars1, bars2, bars3, bars4, bars5]:\n",
    "    for bar in bars:\n",
    "        height = bar.get_height()\n",
    "        plt.text(bar.get_x() + bar.get_width() / 2, height, f'{height:.2f}', ha='center', va='bottom', fontsize=8)\n",
    "\n",
    "plt.tight_layout()\n",
    "plt.show()"
   ]
  }
 ],
 "metadata": {
  "kernelspec": {
   "display_name": ".venv",
   "language": "python",
   "name": "python3"
  },
  "language_info": {
   "codemirror_mode": {
    "name": "ipython",
    "version": 3
   },
   "file_extension": ".py",
   "mimetype": "text/x-python",
   "name": "python",
   "nbconvert_exporter": "python",
   "pygments_lexer": "ipython3",
   "version": "3.9.21"
  }
 },
 "nbformat": 4,
 "nbformat_minor": 5
}
