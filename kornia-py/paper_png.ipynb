{
 "cells": [
  {
   "cell_type": "code",
   "execution_count": 1,
   "id": "33ed00ac",
   "metadata": {},
   "outputs": [
    {
     "name": "stderr",
     "output_type": "stream",
     "text": [
      "2025-04-19 08:43:11.597839: I external/local_xla/xla/tsl/cuda/cudart_stub.cc:32] Could not find cuda drivers on your machine, GPU will not be used.\n",
      "2025-04-19 08:43:11.600187: I external/local_xla/xla/tsl/cuda/cudart_stub.cc:32] Could not find cuda drivers on your machine, GPU will not be used.\n",
      "2025-04-19 08:43:11.606782: E external/local_xla/xla/stream_executor/cuda/cuda_fft.cc:467] Unable to register cuFFT factory: Attempting to register factory for plugin cuFFT when one has already been registered\n",
      "WARNING: All log messages before absl::InitializeLog() is called are written to STDERR\n",
      "E0000 00:00:1745032391.617833   37064 cuda_dnn.cc:8579] Unable to register cuDNN factory: Attempting to register factory for plugin cuDNN when one has already been registered\n",
      "E0000 00:00:1745032391.620902   37064 cuda_blas.cc:1407] Unable to register cuBLAS factory: Attempting to register factory for plugin cuBLAS when one has already been registered\n",
      "W0000 00:00:1745032391.629903   37064 computation_placer.cc:177] computation placer already registered. Please check linkage and avoid linking the same target more than once.\n",
      "W0000 00:00:1745032391.629921   37064 computation_placer.cc:177] computation placer already registered. Please check linkage and avoid linking the same target more than once.\n",
      "W0000 00:00:1745032391.629922   37064 computation_placer.cc:177] computation placer already registered. Please check linkage and avoid linking the same target more than once.\n",
      "W0000 00:00:1745032391.629923   37064 computation_placer.cc:177] computation placer already registered. Please check linkage and avoid linking the same target more than once.\n",
      "2025-04-19 08:43:11.632978: I tensorflow/core/platform/cpu_feature_guard.cc:210] This TensorFlow binary is optimized to use available CPU instructions in performance-critical operations.\n",
      "To enable the following instructions: AVX2 FMA, in other operations, rebuild TensorFlow with the appropriate compiler flags.\n"
     ]
    },
    {
     "name": "stdout",
     "output_type": "stream",
     "text": [
      "Kornia-rs: 0.1.9-rc.3\n",
      "Tensorflow: 2.19.0\n",
      "OpenCV: 4.11.0\n",
      "PIL/Pillow: 11.2.1\n"
     ]
    }
   ],
   "source": [
    "import kornia_rs\n",
    "import tensorflow as tf\n",
    "import cv2\n",
    "import PIL\n",
    "\n",
    "print(\"Kornia-rs: \" + kornia_rs.__version__)\n",
    "print(\"Tensorflow: \" + tf.__version__)\n",
    "print(\"OpenCV: \" + cv2.__version__)\n",
    "print(\"PIL/Pillow: \" + PIL.__version__)"
   ]
  },
  {
   "cell_type": "code",
   "execution_count": 2,
   "id": "fa7bde20",
   "metadata": {},
   "outputs": [
    {
     "name": "stdout",
     "output_type": "stream",
     "text": [
      "kornia_rs 720p = 5.232151847998466\n",
      "kornia_rs 1080p = 11.131534687998283\n",
      "kornia_rs 2k = 21.414244297999176\n",
      "kornia_rs 4k = 52.35685754000042\n"
     ]
    }
   ],
   "source": [
    "# PNG Decoding\n",
    "\n",
    "import io\n",
    "from PIL import Image\n",
    "import numpy as np\n",
    "import timeit\n",
    "\n",
    "N = 500\n",
    "\n",
    "with open(\"data/720p.png\", \"rb\") as f:\n",
    "    image_720p = io.BytesIO(f.read())\n",
    "\n",
    "with open(\"data/1080p.png\", \"rb\") as f:\n",
    "    image_1080p = io.BytesIO(f.read())\n",
    "\n",
    "with open(\"data/2k.png\", \"rb\") as f:\n",
    "    image_2k = io.BytesIO(f.read())\n",
    "\n",
    "with open(\"data/4k.png\", \"rb\") as f:\n",
    "    image_4k = io.BytesIO(f.read())\n",
    "\n",
    "# ============================\n",
    "# Kornia-rs\n",
    "# ============================\n",
    "def load_with_kornia_rs_720p():\n",
    "    np.array(kornia_rs.decode_image_png(image_720p.getvalue(), [720, 1280], \"rgb8\"))\n",
    "\n",
    "def load_with_kornia_rs_1080p():\n",
    "    np.array(kornia_rs.decode_image_png(image_1080p.getvalue(), [1080, 1920], \"rgb8\"))\n",
    "\n",
    "def load_with_kornia_rs_2k():\n",
    "    np.array(kornia_rs.decode_image_png(image_2k.getvalue(), [1440, 2560], \"rgb8\"))\n",
    "\n",
    "def load_with_kornia_rs_4k():\n",
    "    np.array(kornia_rs.decode_image_png(image_4k.getvalue(), [2160, 3840], \"rgb8\"))\n",
    "\n",
    "kornia_rs_720p = timeit.timeit(load_with_kornia_rs_720p, number=N) / N * 1e3\n",
    "kornia_rs_1080p = timeit.timeit(load_with_kornia_rs_1080p, number=N) / N * 1e3\n",
    "kornia_rs_2k = timeit.timeit(load_with_kornia_rs_2k, number=N) / N * 1e3\n",
    "kornia_rs_4k = timeit.timeit(load_with_kornia_rs_4k, number=N) / N * 1e3\n",
    "\n",
    "print(\"kornia_rs 720p = \" + str(kornia_rs_720p))\n",
    "print(\"kornia_rs 1080p = \" + str(kornia_rs_1080p))\n",
    "print(\"kornia_rs 2k = \" + str(kornia_rs_2k))\n",
    "print(\"kornia_rs 4k = \" + str(kornia_rs_4k))"
   ]
  },
  {
   "cell_type": "code",
   "execution_count": 3,
   "id": "06e57856",
   "metadata": {},
   "outputs": [
    {
     "name": "stdout",
     "output_type": "stream",
     "text": [
      "pil 720p = 8.734383514000001\n",
      "pil 1080p = 20.0162715259994\n",
      "pil 2k = 39.8078806579997\n",
      "pil 4k = 128.74819491800008\n"
     ]
    }
   ],
   "source": [
    "# ============================\n",
    "# PIL\n",
    "# ============================\n",
    "def load_with_pil_720p():\n",
    "    np.array(Image.open(image_720p))\n",
    "\n",
    "def load_with_pil_1080p():\n",
    "    np.array(Image.open(image_1080p))\n",
    "\n",
    "def load_with_pil_2k():\n",
    "    np.array(Image.open(image_2k))\n",
    "\n",
    "def load_with_pil_4k():\n",
    "    np.array(Image.open(image_4k))\n",
    "\n",
    "pil_720p = timeit.timeit(load_with_pil_720p, number=N) / N * 1e3\n",
    "pil_1080p = timeit.timeit(load_with_pil_1080p, number=N) / N * 1e3\n",
    "pil_2k = timeit.timeit(load_with_pil_2k, number=N) / N * 1e3\n",
    "pil_4k = timeit.timeit(load_with_pil_4k, number=N) / N * 1e3\n",
    "\n",
    "print(\"pil 720p = \" + str(pil_720p))\n",
    "print(\"pil 1080p = \" + str(pil_1080p))\n",
    "print(\"pil 2k = \" + str(pil_2k))\n",
    "print(\"pil 4k = \" + str(pil_4k))"
   ]
  },
  {
   "cell_type": "code",
   "execution_count": 4,
   "id": "3c1f4f85",
   "metadata": {},
   "outputs": [
    {
     "name": "stderr",
     "output_type": "stream",
     "text": [
      "2025-04-19 08:45:36.880208: E external/local_xla/xla/stream_executor/cuda/cuda_platform.cc:51] failed call to cuInit: INTERNAL: CUDA error: Failed call to cuInit: UNKNOWN ERROR (303)\n"
     ]
    },
    {
     "name": "stdout",
     "output_type": "stream",
     "text": [
      "Tensorflow 720p = 6.958229263998874\n",
      "Tensorflow 1080p = 15.611201835999964\n",
      "Tensorflow 2k = 29.905546381998647\n",
      "Tensorflow 4k = 87.45733815200037\n"
     ]
    }
   ],
   "source": [
    "# ============================\n",
    "# TensorFlow\n",
    "# ============================\n",
    "tf.config.threading.set_intra_op_parallelism_threads(1)\n",
    "tf.config.threading.set_inter_op_parallelism_threads(1)\n",
    "\n",
    "def load_with_tf_720p():\n",
    "    np.array(tf.io.decode_image(image_720p.getvalue(), channels=3))\n",
    "\n",
    "def load_with_tf_1080p():\n",
    "    np.array(tf.io.decode_image(image_1080p.getvalue(), channels=3))\n",
    "\n",
    "def load_with_tf_2k():\n",
    "    np.array(tf.io.decode_image(image_2k.getvalue(), channels=3))\n",
    "\n",
    "def load_with_tf_4k():\n",
    "    np.array(tf.io.decode_image(image_4k.getvalue(), channels=3))\n",
    "\n",
    "tf_720p = timeit.timeit(load_with_tf_720p, number=N) / N * 1e3\n",
    "tf_1080p = timeit.timeit(load_with_tf_1080p, number=N) / N * 1e3\n",
    "tf_2k = timeit.timeit(load_with_tf_2k, number=N) / N * 1e3\n",
    "tf_4k = timeit.timeit(load_with_tf_4k, number=N) / N * 1e3\n",
    "\n",
    "print(\"Tensorflow 720p = \" + str(tf_720p))\n",
    "print(\"Tensorflow 1080p = \" + str(tf_1080p))\n",
    "print(\"Tensorflow 2k = \" + str(tf_2k))\n",
    "print(\"Tensorflow 4k = \" + str(tf_4k))"
   ]
  },
  {
   "cell_type": "code",
   "execution_count": 5,
   "id": "e90c3848",
   "metadata": {},
   "outputs": [
    {
     "name": "stdout",
     "output_type": "stream",
     "text": [
      "OpenCV 720p = 7.609561257999303\n",
      "OpenCV 1080p = 17.617836510000416\n",
      "OpenCV 2k = 34.27944043200114\n",
      "OpenCV 4k = 97.90132290200017\n"
     ]
    }
   ],
   "source": [
    "# ============================\n",
    "# OpenCV\n",
    "# ============================\n",
    "cv2.setNumThreads(1)\n",
    "\n",
    "buffer_720p = np.frombuffer(image_720p.getvalue(), np.uint8)\n",
    "buffer_1080p = np.frombuffer(image_1080p.getvalue(), np.uint8)\n",
    "buffer_2k = np.frombuffer(image_2k.getvalue(), np.uint8)\n",
    "buffer_4k = np.frombuffer(image_4k.getvalue(), np.uint8)\n",
    "\n",
    "def load_with_cv2_720p():\n",
    "    np.array(cv2.imdecode(buffer_720p, cv2.IMREAD_COLOR))\n",
    "\n",
    "def load_with_cv2_1080p():\n",
    "    np.array(cv2.imdecode(buffer_1080p, cv2.IMREAD_COLOR))\n",
    "\n",
    "def load_with_cv2_2k():\n",
    "    np.array(cv2.imdecode(buffer_2k, cv2.IMREAD_COLOR))\n",
    "\n",
    "def load_with_cv2_4k():\n",
    "    np.array(cv2.imdecode(buffer_4k, cv2.IMREAD_COLOR))\n",
    "\n",
    "cv2_720p = timeit.timeit(load_with_cv2_720p, number=N) / N * 1e3\n",
    "cv2_1080p = timeit.timeit(load_with_cv2_1080p, number=N) / N * 1e3\n",
    "cv2_2k = timeit.timeit(load_with_cv2_2k, number=N) / N * 1e3\n",
    "cv2_4k = timeit.timeit(load_with_cv2_4k, number=N) / N * 1e3\n",
    "\n",
    "print(\"OpenCV 720p = \" + str(cv2_720p))\n",
    "print(\"OpenCV 1080p = \" + str(cv2_1080p))\n",
    "print(\"OpenCV 2k = \" + str(cv2_2k))\n",
    "print(\"OpenCV 4k = \" + str(cv2_4k))"
   ]
  },
  {
   "cell_type": "code",
   "execution_count": 6,
   "id": "8d1c18a8",
   "metadata": {},
   "outputs": [
    {
     "data": {
      "image/png": "[encoded data removed]",
      "text/plain": [
       "<Figure size 1000x600 with 1 Axes>"
      ]
     },
     "metadata": {},
     "output_type": "display_data"
    }
   ],
   "source": [
    "import numpy as np\n",
    "import matplotlib.pyplot as plt\n",
    "\n",
    "# Resolutions and average times\n",
    "resolutions = ['720p', '1080p', '2k', '4k']\n",
    "kornia_rs_avg = [kornia_rs_720p, kornia_rs_1080p, kornia_rs_2k, kornia_rs_4k]\n",
    "pil_avg = [pil_720p, pil_1080p, pil_2k, pil_4k]\n",
    "opencv_avg = [cv2_720p, cv2_1080p, cv2_2k, cv2_4k]\n",
    "tf_avg = [tf_720p, tf_1080p, tf_2k, tf_4k]\n",
    "\n",
    "# Bar width and positions\n",
    "bar_width = 0.20\n",
    "x = np.arange(len(resolutions))\n",
    "\n",
    "# Plotting the histogram\n",
    "plt.figure(figsize=(10, 6))\n",
    "bars1 = plt.bar(x - (1.5 * bar_width), kornia_rs_avg, bar_width, label='Kornia-rs', color='blue', alpha=0.7)\n",
    "bars2 = plt.bar(x - (0.5 * bar_width), pil_avg, bar_width, label='PIL', color='orange', alpha=0.7)\n",
    "bars3 = plt.bar(x + (0.5 * bar_width), opencv_avg, bar_width, label='OpenCV', color='green', alpha=0.7)\n",
    "bars4 = plt.bar(x + (1.5 * bar_width), tf_avg, bar_width, label=\"TensorFlow\", color=\"red\", alpha=0.7)\n",
    "\n",
    "# Adding labels, title, and legend\n",
    "plt.xlabel('Resolution')\n",
    "plt.ylabel('Time (ms)')\n",
    "plt.title('Decoding PNG image')\n",
    "plt.xticks(x, resolutions)\n",
    "plt.legend()\n",
    "plt.grid(axis='y', linestyle='--', alpha=0.7)\n",
    "\n",
    "# Adding values on top of bars\n",
    "for bars in [bars1, bars2, bars3, bars4]:\n",
    "    for bar in bars:\n",
    "        height = bar.get_height()\n",
    "        plt.text(bar.get_x() + bar.get_width() / 2, height, f'{height:.2f}', ha='center', va='bottom', fontsize=8)\n",
    "\n",
    "plt.tight_layout()\n",
    "plt.show()"
   ]
  }
 ],
 "metadata": {
  "kernelspec": {
   "display_name": ".venv",
   "language": "python",
   "name": "python3"
  },
  "language_info": {
   "codemirror_mode": {
    "name": "ipython",
    "version": 3
   },
   "file_extension": ".py",
   "mimetype": "text/x-python",
   "name": "python",
   "nbconvert_exporter": "python",
   "pygments_lexer": "ipython3",
   "version": "3.9.21"
  }
 },
 "nbformat": 4,
 "nbformat_minor": 5
}
