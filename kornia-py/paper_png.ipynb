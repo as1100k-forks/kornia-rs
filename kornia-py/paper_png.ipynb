{
 "cells": [
  {
   "cell_type": "code",
   "execution_count": 4,
   "id": "33ed00ac",
   "metadata": {},
   "outputs": [
    {
     "name": "stdout",
     "output_type": "stream",
     "text": [
      "Kornia-rs: 0.1.9-rc.2\n",
      "Tensorflow: 2.19.0\n",
      "OpenCV: 4.11.0\n",
      "PIL/Pillow: 11.0.0\n"
     ]
    }
   ],
   "source": [
    "import kornia_rs\n",
    "import tensorflow as tf\n",
    "import cv2\n",
    "import PIL\n",
    "\n",
    "print(\"Kornia-rs: \" + kornia_rs.__version__)\n",
    "print(\"Tensorflow: \" + tf.__version__)\n",
    "print(\"OpenCV: \" + cv2.__version__)\n",
    "print(\"PIL/Pillow: \" + PIL.__version__)"
   ]
  },
  {
   "cell_type": "code",
   "execution_count": 5,
   "id": "fa7bde20",
   "metadata": {},
   "outputs": [
    {
     "name": "stdout",
     "output_type": "stream",
     "text": [
      "kornia_rs 720p = 3.5016881279998415\n",
      "kornia_rs 1080p = 8.031004159000076\n",
      "kornia_rs 2k = 15.70079478600019\n",
      "kornia_rs 4k = 51.659686627000156\n"
     ]
    }
   ],
   "source": [
    "# PNG Decoding\n",
    "\n",
    "import io\n",
    "from PIL import Image\n",
    "import numpy as np\n",
    "import timeit\n",
    "\n",
    "N = 1000\n",
    "\n",
    "with open(\"data/720p.png\", \"rb\") as f:\n",
    "    image_720p = io.BytesIO(f.read())\n",
    "\n",
    "with open(\"data/1080p.png\", \"rb\") as f:\n",
    "    image_1080p = io.BytesIO(f.read())\n",
    "\n",
    "with open(\"data/2k.png\", \"rb\") as f:\n",
    "    image_2k = io.BytesIO(f.read())\n",
    "\n",
    "with open(\"data/4k.png\", \"rb\") as f:\n",
    "    image_4k = io.BytesIO(f.read())\n",
    "\n",
    "# ============================\n",
    "# Kornia-rs\n",
    "# ============================\n",
    "def load_with_kornia_rs_720p():\n",
    "    np.array(kornia_rs.decode_image_png(image_720p.getvalue(), [720, 1280], \"rgb8\"))\n",
    "\n",
    "def load_with_kornia_rs_1080p():\n",
    "    np.array(kornia_rs.decode_image_png(image_1080p.getvalue(), [1080, 1920], \"rgb8\"))\n",
    "\n",
    "def load_with_kornia_rs_2k():\n",
    "    np.array(kornia_rs.decode_image_png(image_2k.getvalue(), [1440, 2560], \"rgb8\"))\n",
    "\n",
    "def load_with_kornia_rs_4k():\n",
    "    np.array(kornia_rs.decode_image_png(image_4k.getvalue(), [2160, 3840], \"rgb8\"))\n",
    "\n",
    "# Warmup\n",
    "for _ in range(10):\n",
    "    load_with_kornia_rs_720p()\n",
    "    load_with_kornia_rs_1080p()\n",
    "    load_with_kornia_rs_2k()\n",
    "    load_with_kornia_rs_4k()\n",
    "\n",
    "kornia_rs_720p = timeit.timeit(load_with_kornia_rs_720p, number=N) / N * 1e3\n",
    "kornia_rs_1080p = timeit.timeit(load_with_kornia_rs_1080p, number=N) / N * 1e3\n",
    "kornia_rs_2k = timeit.timeit(load_with_kornia_rs_2k, number=N) / N * 1e3\n",
    "kornia_rs_4k = timeit.timeit(load_with_kornia_rs_4k, number=N) / N * 1e3\n",
    "\n",
    "print(\"kornia_rs 720p = \" + str(kornia_rs_720p))\n",
    "print(\"kornia_rs 1080p = \" + str(kornia_rs_1080p))\n",
    "print(\"kornia_rs 2k = \" + str(kornia_rs_2k))\n",
    "print(\"kornia_rs 4k = \" + str(kornia_rs_4k))"
   ]
  },
  {
   "cell_type": "code",
   "execution_count": 6,
   "id": "06e57856",
   "metadata": {},
   "outputs": [
    {
     "name": "stdout",
     "output_type": "stream",
     "text": [
      "pil 720p = 8.45692090800003\n",
      "pil 1080p = 19.44129482599965\n",
      "pil 2k = 38.90150741599973\n",
      "pil 4k = 127.80066752599942\n"
     ]
    }
   ],
   "source": [
    "# ============================\n",
    "# PIL\n",
    "# ============================\n",
    "def load_with_pil_720p():\n",
    "    np.array(Image.open(image_720p))\n",
    "\n",
    "def load_with_pil_1080p():\n",
    "    np.array(Image.open(image_1080p))\n",
    "\n",
    "def load_with_pil_2k():\n",
    "    np.array(Image.open(image_2k))\n",
    "\n",
    "def load_with_pil_4k():\n",
    "    np.array(Image.open(image_4k))\n",
    "\n",
    "# Warmup\n",
    "for _ in range(10):\n",
    "    load_with_pil_720p()\n",
    "    load_with_pil_1080p()\n",
    "    load_with_pil_2k()\n",
    "    load_with_pil_4k()\n",
    "\n",
    "pil_720p = timeit.timeit(load_with_pil_720p, number=N) / N * 1e3\n",
    "pil_1080p = timeit.timeit(load_with_pil_1080p, number=N) / N * 1e3\n",
    "pil_2k = timeit.timeit(load_with_pil_2k, number=N) / N * 1e3\n",
    "pil_4k = timeit.timeit(load_with_pil_4k, number=N) / N * 1e3\n",
    "\n",
    "print(\"pil 720p = \" + str(pil_720p))\n",
    "print(\"pil 1080p = \" + str(pil_1080p))\n",
    "print(\"pil 2k = \" + str(pil_2k))\n",
    "print(\"pil 4k = \" + str(pil_4k))"
   ]
  },
  {
   "cell_type": "code",
   "execution_count": 7,
   "id": "3c1f4f85",
   "metadata": {},
   "outputs": [
    {
     "name": "stderr",
     "output_type": "stream",
     "text": [
      "2025-04-20 17:06:35.612845: E external/local_xla/xla/stream_executor/cuda/cuda_platform.cc:51] failed call to cuInit: INTERNAL: CUDA error: Failed call to cuInit: UNKNOWN ERROR (303)\n"
     ]
    },
    {
     "name": "stdout",
     "output_type": "stream",
     "text": [
      "Tensorflow 720p = 6.768279842000084\n",
      "Tensorflow 1080p = 15.09429993699996\n",
      "Tensorflow 2k = 29.694339368999863\n",
      "Tensorflow 4k = 87.3241401309997\n"
     ]
    }
   ],
   "source": [
    "# ============================\n",
    "# TensorFlow\n",
    "# ============================\n",
    "tf.config.threading.set_intra_op_parallelism_threads(1)\n",
    "tf.config.threading.set_inter_op_parallelism_threads(1)\n",
    "\n",
    "def load_with_tf_720p():\n",
    "    np.array(tf.io.decode_image(image_720p.getvalue(), channels=3))\n",
    "\n",
    "def load_with_tf_1080p():\n",
    "    np.array(tf.io.decode_image(image_1080p.getvalue(), channels=3))\n",
    "\n",
    "def load_with_tf_2k():\n",
    "    np.array(tf.io.decode_image(image_2k.getvalue(), channels=3))\n",
    "\n",
    "def load_with_tf_4k():\n",
    "    np.array(tf.io.decode_image(image_4k.getvalue(), channels=3))\n",
    "\n",
    "# Warmup\n",
    "for _ in range(10):\n",
    "    load_with_tf_720p()\n",
    "    load_with_tf_1080p()\n",
    "    load_with_tf_2k()\n",
    "    load_with_tf_4k()\n",
    "\n",
    "tf_720p = timeit.timeit(load_with_tf_720p, number=N) / N * 1e3\n",
    "tf_1080p = timeit.timeit(load_with_tf_1080p, number=N) / N * 1e3\n",
    "tf_2k = timeit.timeit(load_with_tf_2k, number=N) / N * 1e3\n",
    "tf_4k = timeit.timeit(load_with_tf_4k, number=N) / N * 1e3\n",
    "\n",
    "print(\"Tensorflow 720p = \" + str(tf_720p))\n",
    "print(\"Tensorflow 1080p = \" + str(tf_1080p))\n",
    "print(\"Tensorflow 2k = \" + str(tf_2k))\n",
    "print(\"Tensorflow 4k = \" + str(tf_4k))"
   ]
  },
  {
   "cell_type": "code",
   "execution_count": 8,
   "id": "e90c3848",
   "metadata": {},
   "outputs": [
    {
     "name": "stdout",
     "output_type": "stream",
     "text": [
      "OpenCV 720p = 7.48633982299998\n",
      "OpenCV 1080p = 17.45344030399974\n",
      "OpenCV 2k = 34.379706060999524\n",
      "OpenCV 4k = 98.43260600099984\n"
     ]
    }
   ],
   "source": [
    "# ============================\n",
    "# OpenCV\n",
    "# ============================\n",
    "cv2.setNumThreads(1)\n",
    "\n",
    "buffer_720p = np.frombuffer(image_720p.getvalue(), np.uint8)\n",
    "buffer_1080p = np.frombuffer(image_1080p.getvalue(), np.uint8)\n",
    "buffer_2k = np.frombuffer(image_2k.getvalue(), np.uint8)\n",
    "buffer_4k = np.frombuffer(image_4k.getvalue(), np.uint8)\n",
    "\n",
    "def load_with_cv2_720p():\n",
    "    np.array(cv2.imdecode(buffer_720p, cv2.IMREAD_COLOR))\n",
    "\n",
    "def load_with_cv2_1080p():\n",
    "    np.array(cv2.imdecode(buffer_1080p, cv2.IMREAD_COLOR))\n",
    "\n",
    "def load_with_cv2_2k():\n",
    "    np.array(cv2.imdecode(buffer_2k, cv2.IMREAD_COLOR))\n",
    "\n",
    "def load_with_cv2_4k():\n",
    "    np.array(cv2.imdecode(buffer_4k, cv2.IMREAD_COLOR))\n",
    "\n",
    "# Warmup\n",
    "for _ in range(10):\n",
    "    load_with_cv2_720p()\n",
    "    load_with_cv2_1080p()\n",
    "    load_with_cv2_2k()\n",
    "    load_with_cv2_4k()\n",
    "\n",
    "cv2_720p = timeit.timeit(load_with_cv2_720p, number=N) / N * 1e3\n",
    "cv2_1080p = timeit.timeit(load_with_cv2_1080p, number=N) / N * 1e3\n",
    "cv2_2k = timeit.timeit(load_with_cv2_2k, number=N) / N * 1e3\n",
    "cv2_4k = timeit.timeit(load_with_cv2_4k, number=N) / N * 1e3\n",
    "\n",
    "print(\"OpenCV 720p = \" + str(cv2_720p))\n",
    "print(\"OpenCV 1080p = \" + str(cv2_1080p))\n",
    "print(\"OpenCV 2k = \" + str(cv2_2k))\n",
    "print(\"OpenCV 4k = \" + str(cv2_4k))"
   ]
  },
  {
   "cell_type": "code",
   "execution_count": 52,
   "id": "8d1c18a8",
   "metadata": {},
   "outputs": [
    {
     "name": "stderr",
     "output_type": "stream",
     "text": [
      "The PostScript backend does not support transparency; partially transparent artists will be rendered opaque.\n"
     ]
    },
    {
     "data": {
      "image/png": "[encoded data removed]",
      "text/plain": [
       "<Figure size 600x600 with 1 Axes>"
      ]
     },
     "metadata": {},
     "output_type": "display_data"
    }
   ],
   "source": [
    "import numpy as np\n",
    "import matplotlib.pyplot as plt\n",
    "\n",
    "# Resolutions and average times\n",
    "resolutions = ['720p', '1080p', '2k', '4k']\n",
    "kornia_rs_avg = [kornia_rs_720p, kornia_rs_1080p, kornia_rs_2k, kornia_rs_4k]\n",
    "pil_avg = [pil_720p, pil_1080p, pil_2k, pil_4k]\n",
    "opencv_avg = [cv2_720p, cv2_1080p, cv2_2k, cv2_4k]\n",
    "tf_avg = [tf_720p, tf_1080p, tf_2k, tf_4k]\n",
    "\n",
    "# Bar width and positions\n",
    "bar_width = 0.05\n",
    "x = np.arange(len(resolutions)) * 0.25\n",
    "\n",
    "# Plotting the histogram\n",
    "plt.figure(figsize=(6, 6))\n",
    "plt.rcParams.update({'font.size': 18})\n",
    "\n",
    "bars1 = plt.bar(x, kornia_rs_avg, bar_width, label='Kornia-rs', color='blue', alpha=0.7)\n",
    "bars2 = plt.bar(x + 1 * bar_width, pil_avg, bar_width, label='PIL', color='orange', alpha=0.7)\n",
    "bars3 = plt.bar(x + 2 * bar_width, opencv_avg, bar_width, label='OpenCV', color='green', alpha=0.7)\n",
    "bars4 = plt.bar(x + 3 * bar_width, tf_avg, bar_width, label=\"TensorFlow\", color=\"red\", alpha=0.7)\n",
    "\n",
    "# Adding labels, title, and legend\n",
    "plt.xlabel('Resolution')\n",
    "plt.ylabel('Time (ms)')\n",
    "plt.title('Decoding PNG image')\n",
    "plt.legend()\n",
    "plt.grid(axis='y', linestyle='--', alpha=0.7)\n",
    "\n",
    "# Adding values on top of bars\n",
    "# for bars in [bars1, bars2, bars3, bars4]:\n",
    "#     for bar in bars:\n",
    "#         height = bar.get_height()\n",
    "#         plt.text(bar.get_x() + bar.get_width() / 2, height, f'{height:.2f}', ha='center', va='bottom', fontsize=8)\n",
    "\n",
    "plt.xticks(x + 1.5 * bar_width, resolutions)\n",
    "plt.tight_layout()  # Ensures no padding/margin around the plot\n",
    "plt.savefig(\"python_decoding_png_image.pdf\", format=\"pdf\")\n",
    "plt.savefig(\"python_decoding_png_image.eps\", format=\"eps\")\n",
    "\n",
    "plt.show()\n"
   ]
  },
  {
   "cell_type": "code",
   "execution_count": null,
   "id": "1b3fb3ed",
   "metadata": {},
   "outputs": [
    {
     "name": "stdout",
     "output_type": "stream",
     "text": [
      "Percentage differences with Kornia-rs:\n",
      "PIL: [141.50982608581447, 142.07800719680168, 147.76775918813198, 147.3895524159139]\n",
      "OpenCV: [113.79230672024939, 117.32575352286747, 118.9679346147153, 90.54046284042617]\n",
      "TensorFlow: [93.28619781642615, 87.95034391912604, 89.12634534576041, 69.03730129357649]\n",
      "\n",
      "Average percentage differences with Kornia-rs:\n",
      "PIL: 144.6862862216655\n",
      "OpenCV: 110.15661442456458\n",
      "TensorFlow: 84.85004709372228\n"
     ]
    }
   ],
   "source": [
    "# Calculate percentage differences for each resolution\n",
    "percentage_diff_pil = [(kornia - pil) / pil * 100 for pil, kornia in zip(pil_avg, kornia_rs_avg)]\n",
    "percentage_diff_opencv = [(kornia - opencv) / opencv * 100 for opencv, kornia in zip(opencv_avg, kornia_rs_avg)]\n",
    "percentage_diff_tf = [(kornia - tf) / tf * 100 for tf, kornia in zip(tf_avg, kornia_rs_avg)]\n",
    "\n",
    "# Calculate average percentage differences\n",
    "avg_diff_pil = sum(percentage_diff_pil) / len(percentage_diff_pil)\n",
    "avg_diff_opencv = sum(percentage_diff_opencv) / len(percentage_diff_opencv)\n",
    "avg_diff_tf = sum(percentage_diff_tf) / len(percentage_diff_tf)\n",
    "\n",
    "# Print results\n",
    "print(\"Percentage differences (Kornia-rs faster than others):\")\n",
    "print(\"PIL:\", percentage_diff_pil)\n",
    "print(\"OpenCV:\", percentage_diff_opencv)\n",
    "print(\"TensorFlow:\", percentage_diff_tf)\n",
    "\n",
    "print(\"\\nAverage percentage differences (Kornia-rs faster than others):\")\n",
    "print(\"PIL:\", avg_diff_pil)\n",
    "print(\"OpenCV:\", avg_diff_opencv)\n",
    "print(\"TensorFlow:\", avg_diff_tf)"
   ]
  }
 ],
 "metadata": {
  "kernelspec": {
   "display_name": ".venv",
   "language": "python",
   "name": "python3"
  },
  "language_info": {
   "codemirror_mode": {
    "name": "ipython",
    "version": 3
   },
   "file_extension": ".py",
   "mimetype": "text/x-python",
   "name": "python",
   "nbconvert_exporter": "python",
   "pygments_lexer": "ipython3",
   "version": "3.9.21"
  }
 },
 "nbformat": 4,
 "nbformat_minor": 5
}
